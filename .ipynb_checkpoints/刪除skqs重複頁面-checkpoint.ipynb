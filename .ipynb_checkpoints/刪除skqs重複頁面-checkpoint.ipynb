{
 "cells": [
  {
   "cell_type": "code",
   "execution_count": 7,
   "metadata": {
    "collapsed": false
   },
   "outputs": [
    {
     "name": "stdout",
     "output_type": "stream",
     "text": [
      "7391\n"
     ]
    }
   ],
   "source": [
    "infile = open(\"/Users/pingtzuhu/Documents/佩文韻府/pwyf.txt\", \"r\", encoding=\"utf8\")\n",
    "pageList=[]\n",
    "tempList=[]\n",
    "newDoc=\"\"\n",
    "lineNo=0\n",
    "pageCount=0\n",
    "for line in infile.readlines():\n",
    "    if line[0:2]==\"##\":\n",
    "        lineNo=1\n",
    "        tempList=[]\n",
    "        tempList.append(line)\n",
    "    else:\n",
    "        tempList.append(line)\n",
    "        lineNo += 1\n",
    "        if lineNo == 19:\n",
    "            if not tempList in pageList:\n",
    "                pageList.append(tempList)\n",
    "                for lineline in tempList:\n",
    "                    newDoc += lineline\n",
    "            else:\n",
    "                pageCount += 1\n",
    "outfile = open(\"/Users/pingtzuhu/Documents/佩文韻府/test.txt\", \"w\", encoding=\"utf8\")\n",
    "outfile.write(newDoc)\n",
    "outfile.close\n",
    "print (pageCount)"
   ]
  },
  {
   "cell_type": "code",
   "execution_count": 3,
   "metadata": {
    "collapsed": false
   },
   "outputs": [
    {
     "name": "stdout",
     "output_type": "stream",
     "text": [
      "[[2, 3], [4, 6, 7]]\n"
     ]
    }
   ],
   "source": [
    "list1=[]\n",
    "list2=[2, 3]\n",
    "list3=[4, 6, 7]\n",
    "list1.append(list2)\n",
    "list1.append(list3)\n",
    "print(list1)"
   ]
  },
  {
   "cell_type": "code",
   "execution_count": null,
   "metadata": {
    "collapsed": true
   },
   "outputs": [],
   "source": []
  }
 ],
 "metadata": {
  "kernelspec": {
   "display_name": "Python 3",
   "language": "python",
   "name": "python3"
  },
  "language_info": {
   "codemirror_mode": {
    "name": "ipython",
    "version": 3
   },
   "file_extension": ".py",
   "mimetype": "text/x-python",
   "name": "python",
   "nbconvert_exporter": "python",
   "pygments_lexer": "ipython3",
   "version": "3.5.1"
  }
 },
 "nbformat": 4,
 "nbformat_minor": 0
}
