{
 "cells": [
  {
   "cell_type": "code",
   "execution_count": 7,
   "metadata": {
    "collapsed": false
   },
   "outputs": [
    {
     "name": "stdout",
     "output_type": "stream",
     "text": [
      "We're done.\n"
     ]
    }
   ],
   "source": [
    "import xml.etree.ElementTree as ET\n",
    "tree = ET.parse(\"/Users/pingtzuhu/Documents/佩文韻府/pwyf.xml\")\n",
    "root = tree.getroot()\n",
    "newDoc = {}\n",
    "templist=\"\"\n",
    "charNo=1\n",
    "ns={\"tei\":\"http://www.tei-c.org/ns/1.0\"}\n",
    "for char in root.findall(\"./tei:text/tei:body/tei:div/tei:div/tei:div\", ns):\n",
    "    newDoc += r\"()\" + char.find(\"tei:head\", ns).text +\",\"+str(charNo)\n",
    "    for term in char.findall(\".//tei:p\", ns):\n",
    "        if (not term.text==None) and (len(term.text)<6):\n",
    "            newDoc += term.text\n",
    "        for tail in term.findall(\"tei:hi\", ns):\n",
    "            if len(tail.tail)<6:\n",
    "                newDoc += tail.tail\n",
    "    newDoc += \"\\n\"\n",
    "outfile = open(\"/Users/pingtzuhu/Documents/佩文韻府/pwyf.txt\", \"w\", encoding=\"utf8\")\n",
    "outfile.write(newDoc)\n",
    "outfile.close\n",
    "print (\"We're done.\")\n",
    "\n"
   ]
  },
  {
   "cell_type": "code",
   "execution_count": 8,
   "metadata": {
    "collapsed": false
   },
   "outputs": [
    {
     "data": {
      "text/plain": [
       "65536"
      ]
     },
     "execution_count": 8,
     "metadata": {},
     "output_type": "execute_result"
    }
   ],
   "source": [
    "16**4"
   ]
  },
  {
   "cell_type": "code",
   "execution_count": null,
   "metadata": {
    "collapsed": true
   },
   "outputs": [],
   "source": []
  }
 ],
 "metadata": {
  "kernelspec": {
   "display_name": "Python 3",
   "language": "python",
   "name": "python3"
  },
  "language_info": {
   "codemirror_mode": {
    "name": "ipython",
    "version": 3
   },
   "file_extension": ".py",
   "mimetype": "text/x-python",
   "name": "python",
   "nbconvert_exporter": "python",
   "pygments_lexer": "ipython3",
   "version": "3.5.1"
  }
 },
 "nbformat": 4,
 "nbformat_minor": 0
}
