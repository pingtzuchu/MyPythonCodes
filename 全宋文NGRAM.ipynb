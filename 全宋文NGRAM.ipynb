{
 "cells": [
  {
   "cell_type": "code",
   "execution_count": null,
   "metadata": {
    "collapsed": true
   },
   "outputs": [],
   "source": [
    "#全宋文NGRAM"
   ]
  },
  {
   "cell_type": "code",
   "execution_count": null,
   "metadata": {
    "collapsed": false
   },
   "outputs": [
    {
     "name": "stdout",
     "output_type": "stream",
     "text": [
      "2016-07-29 12:47:01.813238\n"
     ]
    }
   ],
   "source": [
    "import os\n",
    "import re\n",
    "import xml.etree.ElementTree as ET\n",
    "from datetime import datetime\n",
    "b_time=datetime.now()\n",
    "print (b_time)\n",
    "rootdir = r'/Users/pingtzuhu/Google 雲端硬碟/Cloud Drive/程式資料/qsw'\n",
    "ns = {\"tei\":\"http://www.tei-c.org/ns/1.0\"}\n",
    "n_gram = {}\n",
    "n=1\n",
    "newDoc=\"\"\n",
    "charDoc=\"\"\n",
    "for subdir, dirs, files in os.walk(rootdir):\n",
    "    for file in files:\n",
    "        if file==\"001.xml\":\n",
    "            tree= ET.parse(os.path.join(subdir, file))\n",
    "            root= tree.getroot()\n",
    "            for p in root.findall(\"./tei:text/tei:body/tei:div/tei:div//tei:div/tei:p\", ns):\n",
    "                for t in p.itertext():\n",
    "                    textgroup = re.split(r\"[　，、。．；：？！－…（）《》〈〉「」『』○─│]\", t)\n",
    "                    j=0\n",
    "                    for text in textgroup:\n",
    "                        while re.match(r\"[a-zA-Z\\.]|\\[[一二三四五六七八九十]*\\]\", text):\n",
    "                            text = re.sub(r\"[a-zA-Z\\.]*|\\[[一二三四五六七八九十]*\\]\", \"\", text)\n",
    "                        for ctext in range(len(text)-n+1):\n",
    "                            c = text[j:j+n]\n",
    "                            if c in n_gram.keys():\n",
    "                                n_gram[c]=n_gram[c]+1\n",
    "                            else:\n",
    "                                charDoc += c+\"\\n\"\n",
    "                                n_gram[c]=1\n",
    "                            j=j+1\n",
    "for ckey in n_gram.keys():\n",
    "    newDoc += ckey + \",\" + str(n_gram[ckey])+\"\\n\"\n",
    "outfile = open(r\"/Users/pingtzuhu/Documents/qsw_ngram.txt\", \"w\", encoding=\"utf-8\")\n",
    "outfile.write(newDoc)\n",
    "outfile.close\n",
    "e_time=datetime.now()\n",
    "print (e_time)\n",
    "print (e_time-b_time)"
   ]
  },
  {
   "cell_type": "code",
   "execution_count": null,
   "metadata": {
    "collapsed": true
   },
   "outputs": [],
   "source": []
  },
  {
   "cell_type": "code",
   "execution_count": null,
   "metadata": {
    "collapsed": true
   },
   "outputs": [],
   "source": []
  }
 ],
 "metadata": {
  "kernelspec": {
   "display_name": "Python 3",
   "language": "python",
   "name": "python3"
  },
  "language_info": {
   "codemirror_mode": {
    "name": "ipython",
    "version": 3
   },
   "file_extension": ".py",
   "mimetype": "text/x-python",
   "name": "python",
   "nbconvert_exporter": "python",
   "pygments_lexer": "ipython3",
   "version": "3.5.1"
  }
 },
 "nbformat": 4,
 "nbformat_minor": 0
}
