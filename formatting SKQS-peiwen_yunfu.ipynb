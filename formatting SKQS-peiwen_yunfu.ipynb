{
 "cells": [
  {
   "cell_type": "markdown",
   "metadata": {},
   "source": [
    "#Formatting _Siku quanshu_\n",
    "reading a text file and format it into an xml file"
   ]
  },
  {
   "cell_type": "code",
   "execution_count": 5,
   "metadata": {
    "collapsed": false
   },
   "outputs": [
    {
     "name": "stdout",
     "output_type": "stream",
     "text": [
      "We're done.\n"
     ]
    }
   ],
   "source": [
    "import re\n",
    "document = open(\"/Users/pingtzuhu/Documents/佩文韻府/test.txt\", encoding=\"utf8\")\n",
    "newDoc=\"\"\"<?xml version=\"1.0\" encoding=\"UTF-8\"?>\n",
    "<?xml-model href=\"http://www.tei-c.org/release/xml/tei/custom/schema/relaxng/tei_all.rng\" type=\"application/xml\" schematypens=\"http://relaxng.org/ns/structure/1.0\"?>\n",
    "<?xml-model href=\"http://www.tei-c.org/release/xml/tei/custom/schema/relaxng/tei_all.rng\" type=\"application/xml\"\n",
    "\tschematypens=\"http://purl.oclc.org/dsdl/schematron\"?>\n",
    "<TEI xmlns=\"http://www.tei-c.org/ns/1.0\">\n",
    "  <teiHeader>\n",
    "      <fileDesc>\n",
    "         <titleStmt>\n",
    "            <title>Title</title>\n",
    "         </titleStmt>\n",
    "         <publicationStmt>\n",
    "            <p>Publication Information</p>\n",
    "         </publicationStmt>\n",
    "         <sourceDesc>\n",
    "            <p>Information about the source</p>\n",
    "         </sourceDesc>\n",
    "      </fileDesc>\n",
    "  </teiHeader>\n",
    "  <text>\n",
    "      <body>\n",
    "    \"\"\" #newXMLfile with several quan <div>s\n",
    "quanTitle=[] #Title for Quan first level of div\n",
    "xmlLevel=0 #div level\n",
    "pageNumber=1 #page number\n",
    "lineNumber=1 #line number line8 add PageAB line16 add PageNumber\n",
    "#lineBreak=0 #whether the line is broken\n",
    "hi=re.compile(r\"　([^\\s　<>]+)\\s([^\\s　<>]*?)　\", re.A)\n",
    "duiyuzheju=re.compile(r\"\\A(　?)(對語|摘句)\", re.A)\n",
    "#hi2=re.compile(r\"　([^\\s\\n　<>]+)\\s([^\\s\\n　<>]*?)$\", re.A)\n",
    "item=re.compile(r\"\\A　?(.)　?<hi>(..切)([^<]*</hi>)\", re.A)\n",
    "for para in document.readlines(): #deal with each paragraph\n",
    "    if para[0:2]==\"##\": # test whether begins with \"##\"\n",
    "        pageTitle=para.split(\"/\")\n",
    "        if len(pageTitle)==1: #if only \"##\" => end of file\n",
    "            break\n",
    "        quan=pageTitle[len(pageTitle)-1]\n",
    "        lineNumber=0 #set lineNumber to 0\n",
    "        if not (quan in quanTitle): #test whether it is a new quan title\n",
    "            quanTitle.append(quan) #add the title into the quan title list\n",
    "            if not xmlLevel==0:\n",
    "                newDoc = newDoc+ \"<pb n='\"+str(pageNumber)+\"b'/>\" + \"</p>\"+\"</div>\" * xmlLevel\n",
    "            pageNumber = 1\n",
    "            newDoc = newDoc+ \"\\n<div>\"+\"<head>\" + quan + \"</head>\\n<p>\" #add in new quan title\n",
    "            xmlLevel = 1\n",
    "            duiyu=0\n",
    "        else:\n",
    "            newDoc = newDoc+ \"<pb n='\"+str(pageNumber)+\"b'/>\\n\"\n",
    "            pageNumber += 1\n",
    "    else:\n",
    "        if not len(para)==0: # not empty line\n",
    "            #if lineBreak == 0:\n",
    "            text=para\n",
    "            while re.search(hi, text):\n",
    "                text = re.sub(hi, r\"<hi>\\1\\2</hi>\", text) # hi\n",
    "            if re.search(duiyuzheju, text):\n",
    "                if xmlLevel==4:\n",
    "                    text=re.sub(duiyuzheju, r\"</p>\\n</div><div><head>\\2</head><p>\", text)\n",
    "                elif xmlLevel==3:\n",
    "                    text=re.sub(duiyuzheju, r\"</p>\\n<div><head>\\2</head><p>\", text)\n",
    "                xmlLevel = 4\n",
    "            elif re.match(r\"\\A　　　?([^　]{1,2}聲)\", text): #heading level 2\n",
    "                if xmlLevel==2:\n",
    "                    text = re.sub(r\"\\A　　　?([^　])\", r\"</p></div>\\n<div><head>\\1\", text)\n",
    "                elif xmlLevel==1:\n",
    "                    xmlLevel=2\n",
    "                    text = re.sub(r\"\\A　　　?([^　])\", r\"</p><div><head>\\1\", text)\n",
    "                elif xmlLevel==3:\n",
    "                    xmlLevel=2\n",
    "                    text = re.sub(r\"\\A　　　?([^　])\", r\"</p></div></div>\\n<div><head>\\1\", text)\n",
    "                elif xmlLevel==4:\n",
    "                    xmlLevel=2\n",
    "                    text = re.sub(r\"\\A　　　?([^　])\", r\"</p></div></div></div>\\n<div><head>\\1\", text)\n",
    "                text += \"</head>\\n<p>\"\n",
    "            elif re.match(item, text):\n",
    "                if xmlLevel==2:\n",
    "                    text=re.sub(item, r\"</p>\\n<div><head>\\1<hi><span n='fanqie'>\\2</span>\\3</head><p>\", text)\n",
    "                elif xmlLevel==3:\n",
    "                    text=re.sub(item, r\"</p></div>\\n<div><head>\\1<hi><span n='fanqie'>\\2</span>\\3</head><p>\", text)\n",
    "                elif xmlLevel==4:\n",
    "                    text=re.sub(item, r\"</p></div></div>\\n<div><head>\\1<hi><span n='fanqie'>\\2</span>\\3</head><p>\", text)\n",
    "                xmlLevel=3\n",
    "            elif re.match(r\"\\A　?　?(韻[藻澡]|[增増])[^　]{2,}\", text):\n",
    "                if xmlLevel==3:\n",
    "                    text=re.sub(r\"\\A　?　?(韻[藻澡]|[增増])\", r\"</p>\\n<div><head>\\1</head><p>\", text)\n",
    "                elif xmlLevel==4:\n",
    "                    text=re.sub(r\"\\A　?　?(韻[藻澡]|[增増])\", r\"</p></div>\\n<div><head>\\1</head><p>\", text)\n",
    "                if re.search(r\"<p>([增増])([^　]{2,})\", text):\n",
    "                    text=re.sub(r\"<p>([增増])([^　]{2,})\", r\"</div><div><head>\\1</head><p>\\2\", text)\n",
    "                xmlLevel=4\n",
    "            newDoc += text\n",
    "        lineNumber += 1\n",
    "        if lineNumber == 9:\n",
    "            newDoc += \"<pb n='\"+str(pageNumber)+\"a'/>\"\n",
    "newDoc += \"</p>\\n\" + \"</div>\" * (xmlLevel) + \"</body></text></TEI>\"\n",
    "f = open(\"/Users/pingtzuhu/Documents/佩文韻府/test.xml\", \"w\", encoding=\"utf-8\")\n",
    "f.write(newDoc)\n",
    "f.close\n",
    "print (\"We're done.\")"
   ]
  },
  {
   "cell_type": "code",
   "execution_count": null,
   "metadata": {
    "collapsed": true
   },
   "outputs": [],
   "source": []
  }
 ],
 "metadata": {
  "kernelspec": {
   "display_name": "Python 3",
   "language": "python",
   "name": "python3"
  },
  "language_info": {
   "codemirror_mode": {
    "name": "ipython",
    "version": 3
   },
   "file_extension": ".py",
   "mimetype": "text/x-python",
   "name": "python",
   "nbconvert_exporter": "python",
   "pygments_lexer": "ipython3",
   "version": "3.5.1"
  }
 },
 "nbformat": 4,
 "nbformat_minor": 0
}
