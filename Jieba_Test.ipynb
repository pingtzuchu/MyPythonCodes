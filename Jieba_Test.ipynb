{
 "cells": [
  {
   "cell_type": "markdown",
   "metadata": {},
   "source": [
    "# import Jieba for testing\n",
    "利用朱子文集外的書信做為測試資料。先測試朱熹給張栻的信。(包含時事出處五封，其它的問答四十九封。)\n",
    "利用那些辭典來建辭庫？收集中…\n",
    "cbdb 先以字數的多寡來定義頻率 (依照詞性，應該是可以分辨出地名、人名、官名？)\n",
    "先以《全宋文》卷5479做為測試材料"
   ]
  },
  {
   "cell_type": "code",
   "execution_count": 1,
   "metadata": {
    "collapsed": false
   },
   "outputs": [
    {
     "name": "stderr",
     "output_type": "stream",
     "text": [
      "Building prefix dict from the default dictionary ...\n",
      "Loading model from cache /var/folders/hb/6780yjb5041brxqdbzwrxrm80000gn/T/jieba.cache\n",
      "Loading model cost 0.893 seconds.\n",
      "Prefix dict has been built succesfully.\n"
     ]
    },
    {
     "data": {
      "text/plain": [
       "12217"
      ]
     },
     "execution_count": 1,
     "metadata": {},
     "output_type": "execute_result"
    }
   ],
   "source": [
    "import jieba\n",
    "#jieba.load_userdict(\"/Users/pingtzuhu/anaconda/pkgs/jieba-0.38/userdict.txt\") # file_name\n",
    "f=open(\"/Users/pingtzuhu/Documents/朱熹書信.txt\", \"r\", encoding=\"utf8\")\n",
    "cutText=\"\"\n",
    "for i in f.readlines():\n",
    "    cutText += \"/\".join(jieba.cut(i, cut_all=False))\n",
    "outfile=open(\"/Users/pingtzuhu/Documents/朱熹書信_seg_userdict.txt\", \"w\", encoding=\"utf8\")\n",
    "outfile.write(cutText)\n",
    "    "
   ]
  },
  {
   "cell_type": "markdown",
   "metadata": {},
   "source": [
    "　切"
   ]
  },
  {
   "cell_type": "code",
   "execution_count": null,
   "metadata": {
    "collapsed": true
   },
   "outputs": [],
   "source": []
  }
 ],
 "metadata": {
  "kernelspec": {
   "display_name": "Python 3",
   "language": "python",
   "name": "python3"
  },
  "language_info": {
   "codemirror_mode": {
    "name": "ipython",
    "version": 3
   },
   "file_extension": ".py",
   "mimetype": "text/x-python",
   "name": "python",
   "nbconvert_exporter": "python",
   "pygments_lexer": "ipython3",
   "version": "3.5.1"
  }
 },
 "nbformat": 4,
 "nbformat_minor": 0
}
