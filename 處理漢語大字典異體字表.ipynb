{
 "cells": [
  {
   "cell_type": "code",
   "execution_count": 5,
   "metadata": {
    "collapsed": false
   },
   "outputs": [
    {
     "name": "stdout",
     "output_type": "stream",
     "text": [
      "We're done.\n"
     ]
    }
   ],
   "source": [
    "from openpyxl import Workbook\n",
    "from openpyxl import load_workbook\n",
    "wb = load_workbook(\"/Users/pingtzuhu/Downloads/漢語大字典異體字表.xlsx\")\n",
    "ws = wb.active\n",
    "newDoc=\"'組號'\"\n",
    "for i in range(1, 28):\n",
    "    newDoc += \", \" + \"'\"+str(i)+\"'\"\n",
    "newDoc += \"\\n\"\n",
    "CurrentGroupNo=0\n",
    "CurrentCharNo=0\n",
    "listList=[]\n",
    "tempList=[]\n",
    "for row in ws.rows[1:]:\n",
    "    if int(row[0].value) == CurrentGroupNo:\n",
    "        while int(row[1].value) > (CurrentCharNo):\n",
    "            tempList.append(\"\")\n",
    "            CurrentCharNo += 1\n",
    "        tempList.append(row[2].value)\n",
    "        CurrentCharNo += 1\n",
    "    else:\n",
    "        CurrentGroupNo=int(row[0].value)\n",
    "        listList.append(tempList)\n",
    "        tempList=[]\n",
    "        tempList.append(CurrentGroupNo)\n",
    "        tempList.append(row[2].value)\n",
    "        CurrentCharNo = 2\n",
    "for listnow in listList:\n",
    "    for unit in listnow:\n",
    "        newDoc += \"'\"+str(unit)+\"', \"\n",
    "    newDoc += \"\\n\"\n",
    "outfile = open(\"/Users/pingtzuhu/Downloads/異體字表.txt\", \"w\", encoding=\"utf8\")\n",
    "outfile.write(newDoc)\n",
    "outfile.close\n",
    "print (\"We're done.\")\n",
    "\n",
    "    \n"
   ]
  },
  {
   "cell_type": "code",
   "execution_count": null,
   "metadata": {
    "collapsed": true
   },
   "outputs": [],
   "source": []
  }
 ],
 "metadata": {
  "kernelspec": {
   "display_name": "Python 3",
   "language": "python",
   "name": "python3"
  },
  "language_info": {
   "codemirror_mode": {
    "name": "ipython",
    "version": 3
   },
   "file_extension": ".py",
   "mimetype": "text/x-python",
   "name": "python",
   "nbconvert_exporter": "python",
   "pygments_lexer": "ipython3",
   "version": "3.5.1"
  }
 },
 "nbformat": 4,
 "nbformat_minor": 0
}
